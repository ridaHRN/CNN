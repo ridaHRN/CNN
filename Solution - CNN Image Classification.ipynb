{
 "cells": [
  {
   "cell_type": "code",
   "execution_count": 131,
   "id": "transparent-passing",
   "metadata": {},
   "outputs": [],
   "source": [
    "import numpy as np\n",
    "import random\n",
    "import matplotlib.pyplot as plt\n",
    "import tensorflow as tf\n",
    "from keras import datasets, layers, models\n",
    "from keras.models import Sequential\n",
    "from keras.layers import Conv2D, MaxPooling2D, Dense, Flatten\n",
    "import pyswarms as ps"
   ]
  },
  {
   "attachments": {},
   "cell_type": "markdown",
   "id": "radio-router",
   "metadata": {},
   "source": [
    "# Load Dataset"
   ]
  },
  {
   "cell_type": "code",
   "execution_count": 132,
   "id": "damaged-kennedy",
   "metadata": {},
   "outputs": [],
   "source": [
    "(X_train, Y_train), (X_test, Y_test) = datasets.cifar10.load_data()\n",
    "classes = [\"airplane\",\"automobile\",\"bird\",\"cat\",\"deer\",\"dog\",\"frog\",\"horse\",\"ship\",\"truck\"]"
   ]
  },
  {
   "cell_type": "code",
   "execution_count": 133,
   "id": "demanding-grocery",
   "metadata": {},
   "outputs": [
    {
     "data": {
      "text/plain": [
       "array([6, 9, 9, 4, 1], dtype=uint8)"
      ]
     },
     "execution_count": 133,
     "metadata": {},
     "output_type": "execute_result"
    }
   ],
   "source": [
    "Y_train = Y_train.reshape(-1,)\n",
    "Y_test = Y_test.reshape(-1,)\n",
    "Y_train[:5]"
   ]
  },
  {
   "cell_type": "code",
   "execution_count": 134,
   "id": "labeled-motivation",
   "metadata": {},
   "outputs": [
    {
     "name": "stdout",
     "output_type": "stream",
     "text": [
      "Shape of X_train:  (50000, 32, 32, 3)\n",
      "Shape of Y_train:  (50000,)\n",
      "Shape of X_test:  (10000, 32, 32, 3)\n",
      "Shape of Y_test:  (10000,)\n"
     ]
    }
   ],
   "source": [
    "print(\"Shape of X_train: \", X_train.shape)\n",
    "print(\"Shape of Y_train: \", Y_train.shape)\n",
    "print(\"Shape of X_test: \", X_test.shape)\n",
    "print(\"Shape of Y_test: \", Y_test.shape)"
   ]
  },
  {
   "cell_type": "code",
   "execution_count": 135,
   "id": "corrected-xerox",
   "metadata": {},
   "outputs": [
    {
     "data": {
      "image/png": "[encoded data removed]",
      "text/plain": [
       "<Figure size 1500x200 with 1 Axes>"
      ]
     },
     "metadata": {},
     "output_type": "display_data"
    }
   ],
   "source": [
    "def plot_sample(X, y, index):\n",
    "    plt.figure(figsize=(15, 2))\n",
    "    plt.imshow(X[index])\n",
    "    plt.xlabel(classes[y[index]])\n",
    "\n",
    "\n",
    "plot_sample(X_train, Y_train, random.randint(0, len(Y_train)))\n"
   ]
  },
  {
   "cell_type": "code",
   "execution_count": 136,
   "id": "43df6e83",
   "metadata": {},
   "outputs": [],
   "source": [
    "X_train = X_train / 255.0\n",
    "X_test = X_test / 255.0"
   ]
  },
  {
   "attachments": {},
   "cell_type": "markdown",
   "id": "precise-munich",
   "metadata": {},
   "source": [
    "# Model"
   ]
  },
  {
   "cell_type": "code",
   "execution_count": 138,
   "id": "bigger-spain",
   "metadata": {},
   "outputs": [],
   "source": [
    "cnn = models.Sequential([\n",
    "    layers.Conv2D(32, (3, 3), activation='relu', input_shape=(32, 32, 3)),\n",
    "    layers.MaxPooling2D((2, 2)),\n",
    "    \n",
    "    layers.Conv2D(64, (3, 3), activation='relu'),\n",
    "    layers.MaxPooling2D((2, 2)),\n",
    "    \n",
    "    layers.Flatten(),\n",
    "    layers.Dense(64, activation='relu'),\n",
    "    layers.Dense(10, activation='softmax')\n",
    "])"
   ]
  },
  {
   "cell_type": "code",
   "execution_count": null,
   "id": "special-prior",
   "metadata": {},
   "outputs": [],
   "source": [
    "cnn.compile(loss='sparse_categorical_crossentropy', optimizer='Nadam', metrics=['accuracy'])\n"
   ]
  },
  {
   "cell_type": "code",
   "execution_count": null,
   "id": "wrapped-volume",
   "metadata": {},
   "outputs": [
    {
     "name": "stdout",
     "output_type": "stream",
     "text": [
      "Epoch 1/10\n",
      "1563/1563 [==============================] - 42s 25ms/step - loss: 1.4281 - accuracy: 0.4876 - val_loss: 1.1992 - val_accuracy: 0.5800\n",
      "Epoch 2/10\n",
      "1563/1563 [==============================] - 38s 24ms/step - loss: 1.0907 - accuracy: 0.6197 - val_loss: 1.0535 - val_accuracy: 0.6355\n",
      "Epoch 3/10\n",
      "1563/1563 [==============================] - 36s 23ms/step - loss: 0.9650 - accuracy: 0.6666 - val_loss: 0.9616 - val_accuracy: 0.6723\n",
      "Epoch 4/10\n",
      "1563/1563 [==============================] - 37s 24ms/step - loss: 0.8893 - accuracy: 0.6925 - val_loss: 0.9700 - val_accuracy: 0.6597\n",
      "Epoch 5/10\n",
      "1563/1563 [==============================] - 40s 25ms/step - loss: 0.8229 - accuracy: 0.7170 - val_loss: 0.9348 - val_accuracy: 0.6830\n",
      "Epoch 6/10\n",
      "1563/1563 [==============================] - 43s 27ms/step - loss: 0.7767 - accuracy: 0.7320 - val_loss: 0.9548 - val_accuracy: 0.6788\n",
      "Epoch 7/10\n",
      "1563/1563 [==============================] - 41s 26ms/step - loss: 0.7297 - accuracy: 0.7478 - val_loss: 0.8875 - val_accuracy: 0.7043\n",
      "Epoch 8/10\n",
      "1563/1563 [==============================] - 39s 25ms/step - loss: 0.6859 - accuracy: 0.7615 - val_loss: 0.9059 - val_accuracy: 0.6949\n",
      "Epoch 9/10\n",
      "1563/1563 [==============================] - 39s 25ms/step - loss: 0.6507 - accuracy: 0.7752 - val_loss: 0.9088 - val_accuracy: 0.7007\n",
      "Epoch 10/10\n",
      "1563/1563 [==============================] - 38s 24ms/step - loss: 0.6172 - accuracy: 0.7849 - val_loss: 0.9404 - val_accuracy: 0.6918\n"
     ]
    },
    {
     "data": {
      "text/plain": [
       "<keras.callbacks.History at 0x15a800a6230>"
      ]
     },
     "execution_count": 11,
     "metadata": {},
     "output_type": "execute_result"
    }
   ],
   "source": [
    "cnn.fit(X_train, Y_train, epochs=10, validation_data=(X_test, Y_test))\n"
   ]
  },
  {
   "cell_type": "code",
   "execution_count": null,
   "id": "007bd89b",
   "metadata": {},
   "outputs": [],
   "source": [
    "# Define the fitness function for particle swarm optimization\n",
    "def fitness_function(position):\n",
    "    img = position.reshape((32, 32, 3))\n",
    "    img = np.expand_dims(img, axis=0)\n",
    "    prediction = cnn.predict(img)\n",
    "    # Minimize the negative prediction score\n",
    "    return -prediction[0][np.argmax(prediction)]\n"
   ]
  },
  {
   "cell_type": "code",
   "execution_count": null,
   "id": "0c313388",
   "metadata": {},
   "outputs": [],
   "source": [
    "# Define the particle swarm optimization optimizer\n",
    "optimizer = ps.single.GlobalBestPSO(n_particles=10, dimensions=32*32*3, options={'c1': 0.5, 'c2': 0.3, 'w':0.9})"
   ]
  },
  {
   "cell_type": "code",
   "execution_count": null,
   "id": "c0deec82",
   "metadata": {},
   "outputs": [],
   "source": [
    "# Run the particle swarm optimization algorithm on the test set\n",
    "best_scores = []\n",
    "for img in X_test:\n",
    "    cost, pos = optimizer.optimize(fitness_function, iters=10, verbose=False)\n",
    "    best_scores.append(-cost)\n",
    "\n",
    "# Print the accuracy of the CNN model on the test set with and without bio-inspired optimization\n",
    "print(\"CNN accuracy on test set:\", cnn.evaluate(X_test, Y_test, verbose=0)[1])\n",
    "print(\"CNN accuracy on test set with bio-inspired optimization:\", np.mean(best_scores))\n"
   ]
  },
  {
   "cell_type": "code",
   "execution_count": null,
   "id": "settled-thesis",
   "metadata": {},
   "outputs": [
    {
     "name": "stdout",
     "output_type": "stream",
     "text": [
      "313/313 [==============================] - 3s 8ms/step - loss: 0.9404 - accuracy: 0.6918\n"
     ]
    },
    {
     "data": {
      "text/plain": [
       "[0.9404144287109375, 0.6917999982833862]"
      ]
     },
     "execution_count": 12,
     "metadata": {},
     "output_type": "execute_result"
    }
   ],
   "source": [
    "cnn.evaluate(X_test, Y_test)"
   ]
  },
  {
   "attachments": {},
   "cell_type": "markdown",
   "id": "alternate-bloom",
   "metadata": {},
   "source": [
    "# Making predictions"
   ]
  },
  {
   "cell_type": "code",
   "execution_count": null,
   "id": "understanding-hartford",
   "metadata": {},
   "outputs": [
    {
     "name": "stdout",
     "output_type": "stream",
     "text": [
      "1/1 [==============================] - 0s 130ms/step\n",
      "Our model says it is a : truck 6741\n",
      "1/1 [==============================] - 0s 24ms/step\n",
      "Our model says it is a : bird 1606\n"
     ]
    },
    {
     "data": {
      "image/png": "[encoded data removed]",
      "text/plain": [
       "<Figure size 1500x200 with 1 Axes>"
      ]
     },
     "metadata": {},
     "output_type": "display_data"
    },
    {
     "data": {
      "image/png": "[encoded data removed]",
      "text/plain": [
       "<Figure size 1500x200 with 1 Axes>"
      ]
     },
     "metadata": {},
     "output_type": "display_data"
    }
   ],
   "source": [
    "index = random.randint(0, len(Y_test))\n",
    "ind = 1606\n",
    "y_pred = cnn.predict(X_test[index, :].reshape(1, 32, 32, 3))\n",
    "y_pred = np.argmax(y_pred)\n",
    "\n",
    "plot_sample(X_test, Y_test, index)\n",
    "\n",
    "print(\"Our model says it is a :\", classes[y_pred], index)\n",
    "\n",
    "y_pred = cnn.predict(X_test[ind, :].reshape(1, 32, 32, 3))\n",
    "y_pred = np.argmax(y_pred)\n",
    "\n",
    "plot_sample(X_test, Y_test, ind)\n",
    "\n",
    "print(\"Our model says it is a :\", classes[y_pred], ind)\n"
   ]
  },
  {
   "cell_type": "code",
   "execution_count": null,
   "id": "colonial-genealogy",
   "metadata": {},
   "outputs": [],
   "source": []
  }
 ],
 "metadata": {
  "kernelspec": {
   "display_name": "Python 3",
   "language": "python",
   "name": "python3"
  },
  "language_info": {
   "codemirror_mode": {
    "name": "ipython",
    "version": 3
   },
   "file_extension": ".py",
   "mimetype": "text/x-python",
   "name": "python",
   "nbconvert_exporter": "python",
   "pygments_lexer": "ipython3",
   "version": "3.10.11"
  }
 },
 "nbformat": 4,
 "nbformat_minor": 5
}
